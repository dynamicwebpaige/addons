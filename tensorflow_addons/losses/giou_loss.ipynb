{
  "nbformat": 4,
  "nbformat_minor": 0,
  "metadata": {
    "colab": {
      "name": "giou_loss.ipynb",
      "provenance": [],
      "collapsed_sections": []
    },
    "kernelspec": {
      "name": "python3",
      "display_name": "Python 3"
    },
    "language_info": {
      "name": "python"
    }
  },
  "cells": [
    {
      "cell_type": "code",
      "metadata": {
        "id": "XNGF7YQBloHY"
      },
      "source": [
        "import tensorflow as tf\n",
        "import tensorflow_addons as tfa"
      ],
      "execution_count": null,
      "outputs": []
    },
    {
      "cell_type": "code",
      "metadata": {
        "id": "oD9HV-tWlQDr"
      },
      "source": [
        "# Initialize the loss function.\n",
        "gl = tfa.losses.GIoULoss()"
      ],
      "execution_count": null,
      "outputs": []
    },
    {
      "cell_type": "code",
      "metadata": {
        "id": "rY8tF2vTltZ3"
      },
      "source": [
        "# Define the bounding box coordinates.\n",
        "boxes1 = tf.constant([[4.0, 3.0, 7.0, 5.0], [5.0, 6.0, 10.0, 7.0]])\n",
        "boxes2 = tf.constant([[3.0, 4.0, 6.0, 8.0], [14.0, 14.0, 15.0, 15.0]])"
      ],
      "execution_count": null,
      "outputs": []
    },
    {
      "cell_type": "code",
      "metadata": {
        "id": "9HX8Tn1HlvfR"
      },
      "source": [
        "# Calculate and print the GIoU loss.\n",
        "loss = gl(boxes1, boxes2)\n",
        "loss"
      ],
      "execution_count": null,
      "outputs": []
    },
    {
      "cell_type": "code",
      "metadata": {
        "id": "u0xvrpbWlw6Z"
      },
      "source": [
        "# Utilization with a Keras model.\n",
        "model = tf.keras.Model()\n",
        "model.compile('sgd', loss=tfa.losses.GIoULoss())"
      ],
      "execution_count": null,
      "outputs": []
    }
  ]
}